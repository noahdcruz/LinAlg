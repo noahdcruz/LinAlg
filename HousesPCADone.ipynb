{
 "cells": [
  {
   "cell_type": "markdown",
   "id": "e2665946",
   "metadata": {},
   "source": [
    "### Question 6(a) Run the next few cells (before part b) to normalize \"AgeHeight\", do regression, do PCA on the input variables, and do regression using the components from PCA (dimension reduction on the input variables)."
   ]
  },
  {
   "cell_type": "code",
   "execution_count": 152,
   "id": "6e30bcb8",
   "metadata": {},
   "outputs": [],
   "source": [
    "# Importing libraries needed\n",
    "import numpy as np  # for matrices, array, linear algebra\n",
    "import pandas as pd  # open source data analysis and manipulation\n",
    "import sklearn # for PCA and other statistical packages"
   ]
  },
  {
   "cell_type": "code",
   "execution_count": 153,
   "id": "a5f63eb7",
   "metadata": {},
   "outputs": [],
   "source": [
    "# Code for normalizing/standardizing data\n",
    "def Normdata(X):\n",
    "    Norm_X = X.copy()\n",
    "    names = list(X)\n",
    "    for i in names:\n",
    "        Norm_X[i] = (X[i]-X[i].mean())/X[i].std()\n",
    "    return Norm_X"
   ]
  },
  {
   "cell_type": "code",
   "execution_count": 154,
   "id": "ff8ccf6b",
   "metadata": {},
   "outputs": [],
   "source": [
    "# Code for regression using the Normal Equation (X.T*X)*theta = (X.T*y)\n",
    "def LinearReg(Xdata,Y):\n",
    "    X = np.vstack([np.ones(Xdata.shape[0]),Xdata.T]).T  # First, concatenate X with a column of ones on the left\n",
    "    theta=(np.linalg.solve(np.matmul(X.T,X),np.matmul(X.T,Y)))\n",
    "    print(\"Mean RSS = \",np.linalg.norm(np.matmul(X,theta) - Y)**2/X.shape[0])"
   ]
  },
  {
   "cell_type": "code",
   "execution_count": 155,
   "id": "cbc14b4f",
   "metadata": {},
   "outputs": [
    {
     "name": "stdout",
     "output_type": "stream",
     "text": [
      "Regression on normalized data\n",
      "Mean RSS =  0.21541950113378674\n"
     ]
    }
   ],
   "source": [
    "AGH=pd.read_csv(\"AgeHeight.csv\") \n",
    "names = list(AGH) # this gives us a list of column names\n",
    "\n",
    "print(\"Regression on normalized data\")\n",
    "Norm_AGH = Normdata(AGH)\n",
    "Xd = Norm_AGH[names[0:2]] # Data for Input/feature variables: first 2 columns\n",
    "Y = Norm_AGH.y # Output variable data\n",
    "LinearReg(Xd,Y)"
   ]
  },
  {
   "cell_type": "code",
   "execution_count": 156,
   "id": "934b5bd4",
   "metadata": {},
   "outputs": [
    {
     "name": "stdout",
     "output_type": "stream",
     "text": [
      "PCA on AgeHeight ormalized data\n",
      "First component:  [0.70710678 0.70710678] , variance explained:  94.19417382415922 %\n",
      "Second component:  [ 0.70710678 -0.70710678] , variance explained:  5.805826175840775 %\n"
     ]
    }
   ],
   "source": [
    "# PCA on AGH\n",
    "from sklearn.decomposition import PCA\n",
    "\n",
    "pca = PCA(n_components=2)\n",
    "pca.fit(Norm_AGH[names[0:2]])\n",
    "\n",
    "print(\"PCA on AgeHeight ormalized data\")\n",
    "print(\"First component: \", pca.components_[0], \", variance explained: \", 100*pca.explained_variance_ratio_[0], \"%\")\n",
    "print(\"Second component: \", pca.components_[1], \", variance explained: \", 100*pca.explained_variance_ratio_[1], \"%\")"
   ]
  },
  {
   "cell_type": "code",
   "execution_count": 157,
   "id": "ba9ae1bb",
   "metadata": {},
   "outputs": [
    {
     "name": "stdout",
     "output_type": "stream",
     "text": [
      "Regression on the first component:\n",
      "Mean RSS =  0.21872510166964712\n",
      "Regression on both components:\n",
      "Mean RSS =  0.21541950113378686\n"
     ]
    }
   ],
   "source": [
    "# Reduction of input dimension using PCA\n",
    "print(\"Regression on the first component:\")\n",
    "pca2 = PCA(n_components=1)\n",
    "Transformed_AGH = pca2.fit_transform(Norm_AGH[names[0:2]]) \n",
    "Y = Norm_AGH.y \n",
    "LinearReg(Transformed_AGH,Y)\n",
    "\n",
    "print(\"Regression on both components:\")\n",
    "pca2 = PCA(n_components=2)\n",
    "Transformed_AGH = pca2.fit_transform(Norm_AGH[names[0:2]]) \n",
    "Y = Norm_AGH.y \n",
    "LinearReg(Transformed_AGH,Y)"
   ]
  },
  {
   "cell_type": "markdown",
   "id": "5d8b4c4d",
   "metadata": {},
   "source": [
    "### Question 6(b) Write code to do repeat part (a) for \"Houses\". Note that there are four input variables in Houses, and we should include 1, 2, 3, 4 components in turn."
   ]
  },
  {
   "cell_type": "code",
   "execution_count": 159,
   "id": "2fd62252-1f40-479f-90f9-c681daa745d3",
   "metadata": {},
   "outputs": [],
   "source": [
    "houses_path = 'Houses.csv'\n",
    "houses_data = pd.read_csv(houses_path)"
   ]
  },
  {
   "cell_type": "code",
   "execution_count": 160,
   "id": "8b591245-a305-49db-9b31-bad96443398d",
   "metadata": {},
   "outputs": [],
   "source": [
    "def Normdata(X):\n",
    "    Norm_X = X.copy()\n",
    "    for col in Norm_X.columns:\n",
    "        Norm_X[col] = (Norm_X[col] - Norm_X[col].mean()) / Norm_X[col].std()\n",
    "    return Norm_X"
   ]
  },
  {
   "cell_type": "code",
   "execution_count": 161,
   "id": "6135369d-9f39-44d3-ba8e-e4c172b906a4",
   "metadata": {},
   "outputs": [],
   "source": [
    "def LinearReg(Xdata, Y):\n",
    "    X = np.vstack([np.ones(Xdata.shape[0]), Xdata.T]).T  # Add column of ones for intercept\n",
    "    theta = np.linalg.solve(np.matmul(X.T, X), np.matmul(X.T, Y))\n",
    "    mean_rss = np.linalg.norm(np.matmul(X, theta) - Y)**2 / X.shape[0]\n",
    "    print(\"Mean RSS = \", mean_rss)\n",
    "    return mean_rss"
   ]
  },
  {
   "cell_type": "code",
   "execution_count": 162,
   "id": "59c84d6b-f1c3-4fba-a25e-722097895ec2",
   "metadata": {},
   "outputs": [],
   "source": [
    "normalized_houses = Normdata(houses_data)"
   ]
  },
  {
   "cell_type": "code",
   "execution_count": 163,
   "id": "8f81c178-45aa-473d-8801-96d21a90d1ac",
   "metadata": {},
   "outputs": [],
   "source": [
    "input_columns = ['LIVING_AREA', 'LOT_SIZE', 'BEDROOMS', 'YEAR_BUILT']\n",
    "X_houses = normalized_houses[input_columns]\n",
    "Y_houses = normalized_houses['PRICE']"
   ]
  },
  {
   "cell_type": "code",
   "execution_count": 164,
   "id": "40bacc3e-4fc3-4d40-935c-02a32ecbd5e5",
   "metadata": {},
   "outputs": [],
   "source": [
    "# PCA with 4 components\n",
    "pca_houses_4 = PCA(n_components=4)\n",
    "pca_houses_4.fit(X_houses)\n",
    "\n",
    "\n",
    "components = pca_houses_4.components_\n",
    "explained_variance_ratio_4 = pca_houses_4.explained_variance_ratio_"
   ]
  },
  {
   "cell_type": "code",
   "execution_count": 165,
   "id": "6e7900d5-bffa-4de0-b6be-b409854135ac",
   "metadata": {},
   "outputs": [
    {
     "data": {
      "text/plain": [
       "{'Component 1': array([0.61939756, 0.53196549, 0.57253022, 0.07462259]),\n",
       " 'Component 2': array([ 0.1819595 , -0.32897207, -0.01195791,  0.92656631]),\n",
       " 'Component 3': array([-0.03467355, -0.67904879,  0.69781125, -0.2252775 ]),\n",
       " 'Component 4': array([ 0.76291228, -0.38429525, -0.43026227, -0.29181568]),\n",
       " 'Variance Explained by Component 1 (%)': 56.98292415246886,\n",
       " 'Variance Explained by Component 2 (%)': 27.692204690772265,\n",
       " 'Variance Explained by Component 3 (%)': 11.532010647059119,\n",
       " 'Variance Explained by Component 4 (%)': 3.7928605096997496}"
      ]
     },
     "execution_count": 165,
     "metadata": {},
     "output_type": "execute_result"
    }
   ],
   "source": [
    "# Results\n",
    "pca_results_4 = {\n",
    "    f\"Component {i+1}\": components[i] for i in range(4)\n",
    "}\n",
    "pca_results_4.update({\n",
    "    f\"Variance Explained by Component {i+1} (%)\": explained_variance_ratio_4[i] * 100 for i in range(4)\n",
    "})\n",
    "\n",
    "pca_results_4"
   ]
  },
  {
   "cell_type": "code",
   "execution_count": 166,
   "id": "b5163d7e-4993-4cf0-a2df-01fa42e7a772",
   "metadata": {},
   "outputs": [
    {
     "name": "stdout",
     "output_type": "stream",
     "text": [
      "Regression with 1 principal component(s):\n",
      "Mean RSS =  0.20885638848844335\n",
      "Regression with 2 principal component(s):\n",
      "Mean RSS =  0.2057702643614693\n",
      "Regression with 3 principal component(s):\n",
      "Mean RSS =  0.19379852660635097\n",
      "Regression with 4 principal component(s):\n",
      "Mean RSS =  0.16118244781630114\n"
     ]
    }
   ],
   "source": [
    "for n_components in range(1, 5):\n",
    "    print(f\"Regression with {n_components} principal component(s):\")\n",
    "    pca = PCA(n_components=n_components)\n",
    "    X_transformed = pca.fit_transform(X_houses)\n",
    "    LinearReg(X_transformed, Y_houses)"
   ]
  }
 ],
 "metadata": {
  "kernelspec": {
   "display_name": "Python 3 (ipykernel)",
   "language": "python",
   "name": "python3"
  },
  "language_info": {
   "codemirror_mode": {
    "name": "ipython",
    "version": 3
   },
   "file_extension": ".py",
   "mimetype": "text/x-python",
   "name": "python",
   "nbconvert_exporter": "python",
   "pygments_lexer": "ipython3",
   "version": "3.12.7"
  }
 },
 "nbformat": 4,
 "nbformat_minor": 5
}
